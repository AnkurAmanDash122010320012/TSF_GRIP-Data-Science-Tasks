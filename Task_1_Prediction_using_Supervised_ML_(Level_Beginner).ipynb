{
  "nbformat": 4,
  "nbformat_minor": 0,
  "metadata": {
    "colab": {
      "provenance": [],
      "authorship_tag": "ABX9TyN+8ZFdlQJFKmTTWX00jJR7",
      "include_colab_link": true
    },
    "kernelspec": {
      "name": "python3",
      "display_name": "Python 3"
    },
    "language_info": {
      "name": "python"
    }
  },
  "cells": [
    {
      "cell_type": "markdown",
      "metadata": {
        "id": "view-in-github",
        "colab_type": "text"
      },
      "source": [
        "<a href=\"https://colab.research.google.com/github/AnkurAmanDash122010320012/TSF_GRIP-Data-Science-Tasks/blob/main/Task_1_Prediction_using_Supervised_ML_(Level_Beginner).ipynb\" target=\"_parent\"><img src=\"https://colab.research.google.com/assets/colab-badge.svg\" alt=\"Open In Colab\"/></a>"
      ]
    },
    {
      "cell_type": "markdown",
      "source": [
        "# ***THE SPARKS FOUNDATION***\n",
        "\n",
        "### **TASK 1:- Prediction using Supervised ML**\n",
        "\n",
        "In this regression task, my objective is to estimate the percentage of marks a student is likely to achieve based on the number of hours they have dedicated to studying. This problem can be solved using a simple linear regression model since we are examining the relationship between two variables."
      ],
      "metadata": {
        "id": "_lCml9Xr9yuy"
      }
    },
    {
      "cell_type": "markdown",
      "source": [
        "## ***AUTHOR:- Ankur Aman Dash***\n",
        "\n",
        "> Copyright., 2023\n",
        "\n",
        "\n",
        "---\n",
        "\n"
      ],
      "metadata": {
        "id": "J3-QMOYzA_Qa"
      }
    },
    {
      "cell_type": "markdown",
      "source": [
        "**Step 1: Import the necessary libraries**"
      ],
      "metadata": {
        "id": "sDORdwwhCHM9"
      }
    },
    {
      "cell_type": "code",
      "source": [
        "import pandas as pd\n",
        "import numpy as np\n",
        "import matplotlib.pyplot as plt\n",
        "from sklearn.linear_model import LinearRegression\n",
        "from sklearn.model_selection import train_test_split"
      ],
      "metadata": {
        "id": "rncZBTGTCJix"
      },
      "execution_count": 38,
      "outputs": []
    },
    {
      "cell_type": "markdown",
      "source": [
        "We begin by importing the required libraries for our task, including pandas for data manipulation, numpy for numerical operations, matplotlib for data visualization, and the LinearRegression model from scikit-learn for performing linear regression. Additionally, we import the train_test_split function to split our data into training and testing sets."
      ],
      "metadata": {
        "id": "ArXxDAArCP_W"
      }
    },
    {
      "cell_type": "markdown",
      "source": [
        "**Step 2: Load the data**"
      ],
      "metadata": {
        "id": "R3V2Kms4CWOb"
      }
    },
    {
      "cell_type": "code",
      "source": [
        "url = \"http://bit.ly/w-data\"\n",
        "data = pd.read_csv(url)\n",
        "print(data)"
      ],
      "metadata": {
        "colab": {
          "base_uri": "https://localhost:8080/"
        },
        "id": "BozZhjUKCeIN",
        "outputId": "f76a741c-888d-4304-ab13-271eebfa0ff0"
      },
      "execution_count": 39,
      "outputs": [
        {
          "output_type": "stream",
          "name": "stdout",
          "text": [
            "    Hours  Scores\n",
            "0     2.5      21\n",
            "1     5.1      47\n",
            "2     3.2      27\n",
            "3     8.5      75\n",
            "4     3.5      30\n",
            "5     1.5      20\n",
            "6     9.2      88\n",
            "7     5.5      60\n",
            "8     8.3      81\n",
            "9     2.7      25\n",
            "10    7.7      85\n",
            "11    5.9      62\n",
            "12    4.5      41\n",
            "13    3.3      42\n",
            "14    1.1      17\n",
            "15    8.9      95\n",
            "16    2.5      30\n",
            "17    1.9      24\n",
            "18    6.1      67\n",
            "19    7.4      69\n",
            "20    2.7      30\n",
            "21    4.8      54\n",
            "22    3.8      35\n",
            "23    6.9      76\n",
            "24    7.8      86\n"
          ]
        }
      ]
    },
    {
      "cell_type": "markdown",
      "source": [
        "Next, we load the data from the provided URL using the read_csv function from pandas. We store the data in a variable called 'data'."
      ],
      "metadata": {
        "id": "rYgi4e3EC1pB"
      }
    },
    {
      "cell_type": "markdown",
      "source": [
        "**Step 3: Explore and visualize the data**"
      ],
      "metadata": {
        "id": "prsdR0Y6C9wh"
      }
    },
    {
      "cell_type": "code",
      "source": [
        "data = pd.read_csv(url)\n",
        "data.plot(x='Hours', y='Scores', style='o')\n",
        "plt.title('Hours Studied vs Percentage Score')\n",
        "plt.xlabel('Hours Studied')\n",
        "plt.ylabel('Percentage Score')\n",
        "plt.show()"
      ],
      "metadata": {
        "colab": {
          "base_uri": "https://localhost:8080/",
          "height": 472
        },
        "id": "MEWGix36C_AX",
        "outputId": "14a12880-8094-4f04-aa00-c33bc9abcd12"
      },
      "execution_count": 40,
      "outputs": [
        {
          "output_type": "display_data",
          "data": {
            "text/plain": [
              "<Figure size 640x480 with 1 Axes>"
            ],
            "image/png": "[encoded data removed]"
          },
          "metadata": {}
        }
      ]
    },
    {
      "cell_type": "markdown",
      "source": [
        "To gain insights into the data, we examine the first few rows using the head() function. We observe that the data contains two columns: 'Hours' and 'Scores'. We then create a scatter plot to visualize the relationship between the number of hours studied and the corresponding percentage score. The plot helps us visualize any correlation between the variables."
      ],
      "metadata": {
        "id": "L4ZCfVFjDI-z"
      }
    },
    {
      "cell_type": "markdown",
      "source": [
        "**Step 4: Prepare the data for training**"
      ],
      "metadata": {
        "id": "jbDKCMBIDPtU"
      }
    },
    {
      "cell_type": "code",
      "source": [
        "X = data.iloc[:, :-1].values\n",
        "y = data.iloc[:, 1].values"
      ],
      "metadata": {
        "id": "--E6ymWhDUT0"
      },
      "execution_count": 41,
      "outputs": []
    },
    {
      "cell_type": "markdown",
      "source": [
        "To train our model, we separate the input (X) and target (y) variables from the data. Here, we use the iloc function to access the desired columns of the DataFrame and the values attribute to obtain the corresponding values."
      ],
      "metadata": {
        "id": "JzZgeb1YDb53"
      }
    },
    {
      "cell_type": "markdown",
      "source": [
        "**Step 5: Split the data into training and testing sets**"
      ],
      "metadata": {
        "id": "iYvBJ82_Deaq"
      }
    },
    {
      "cell_type": "code",
      "source": [
        "X_train, X_test, y_train, y_test = train_test_split(X, y, test_size=0.2, random_state=0)"
      ],
      "metadata": {
        "id": "DaK3Yh-IHHYJ"
      },
      "execution_count": 42,
      "outputs": []
    },
    {
      "cell_type": "markdown",
      "source": [
        "To evaluate the performance of our model, we split the data into training and testing sets. The train_test_split function divides the data into X_train and X_test (input features) and y_train and y_test (target values). We allocate 20% of the data for testing, while the remaining 80% is used for training."
      ],
      "metadata": {
        "id": "JNn6Y17OHLZG"
      }
    },
    {
      "cell_type": "markdown",
      "source": [
        "**Step 6: Train the linear regression model**"
      ],
      "metadata": {
        "id": "tlcxMA_oHgD3"
      }
    },
    {
      "cell_type": "code",
      "source": [
        "regressor = LinearRegression()\n",
        "regressor.fit(X_train, y_train)\n",
        "print(\"Model got successfully trained....\")"
      ],
      "metadata": {
        "colab": {
          "base_uri": "https://localhost:8080/"
        },
        "id": "8DlB_0khHiZz",
        "outputId": "d82bb99a-211a-4827-99a9-c6c752065219"
      },
      "execution_count": 43,
      "outputs": [
        {
          "output_type": "stream",
          "name": "stdout",
          "text": [
            "Model got successfully trained....\n"
          ]
        }
      ]
    },
    {
      "cell_type": "markdown",
      "source": [
        "Now, we create an instance of the LinearRegression model and fit it with the training data. This step involves finding the best-fit line that represents the linear relationship between the input (X) and target (y) variables."
      ],
      "metadata": {
        "id": "KrEtVbReHysw"
      }
    },
    {
      "cell_type": "markdown",
      "source": [
        "**Step 7: Predicting the Percentage of Marks**\n"
      ],
      "metadata": {
        "id": "OCWxTpq1HzMG"
      }
    },
    {
      "cell_type": "code",
      "source": [
        "# Generating predictions\n",
        "hours_test = X_test.flatten()  # Flatten the input array\n",
        "predicted_marks = regressor.predict(X_test)\n",
        "\n",
        "# Creating a DataFrame with predicted marks\n",
        "prediction = pd.DataFrame({'Hours Studied': hours_test, 'Predicted Marks': predicted_marks})\n",
        "prediction"
      ],
      "metadata": {
        "colab": {
          "base_uri": "https://localhost:8080/",
          "height": 206
        },
        "id": "B5qEa1gIILEj",
        "outputId": "ed6c5b16-1726-48d4-ee41-68a77242c0b9"
      },
      "execution_count": 44,
      "outputs": [
        {
          "output_type": "execute_result",
          "data": {
            "text/plain": [
              "   Hours Studied  Predicted Marks\n",
              "0            1.5        16.884145\n",
              "1            3.2        33.732261\n",
              "2            7.4        75.357018\n",
              "3            2.5        26.794801\n",
              "4            5.9        60.491033"
            ],
            "text/html": [
              "\n",
              "  <div id=\"df-9a645315-a131-4eac-9550-d123f88d8398\">\n",
              "    <div class=\"colab-df-container\">\n",
              "      <div>\n",
              "<style scoped>\n",
              "    .dataframe tbody tr th:only-of-type {\n",
              "        vertical-align: middle;\n",
              "    }\n",
              "\n",
              "    .dataframe tbody tr th {\n",
              "        vertical-align: top;\n",
              "    }\n",
              "\n",
              "    .dataframe thead th {\n",
              "        text-align: right;\n",
              "    }\n",
              "</style>\n",
              "<table border=\"1\" class=\"dataframe\">\n",
              "  <thead>\n",
              "    <tr style=\"text-align: right;\">\n",
              "      <th></th>\n",
              "      <th>Hours Studied</th>\n",
              "      <th>Predicted Marks</th>\n",
              "    </tr>\n",
              "  </thead>\n",
              "  <tbody>\n",
              "    <tr>\n",
              "      <th>0</th>\n",
              "      <td>1.5</td>\n",
              "      <td>16.884145</td>\n",
              "    </tr>\n",
              "    <tr>\n",
              "      <th>1</th>\n",
              "      <td>3.2</td>\n",
              "      <td>33.732261</td>\n",
              "    </tr>\n",
              "    <tr>\n",
              "      <th>2</th>\n",
              "      <td>7.4</td>\n",
              "      <td>75.357018</td>\n",
              "    </tr>\n",
              "    <tr>\n",
              "      <th>3</th>\n",
              "      <td>2.5</td>\n",
              "      <td>26.794801</td>\n",
              "    </tr>\n",
              "    <tr>\n",
              "      <th>4</th>\n",
              "      <td>5.9</td>\n",
              "      <td>60.491033</td>\n",
              "    </tr>\n",
              "  </tbody>\n",
              "</table>\n",
              "</div>\n",
              "      <button class=\"colab-df-convert\" onclick=\"convertToInteractive('df-9a645315-a131-4eac-9550-d123f88d8398')\"\n",
              "              title=\"Convert this dataframe to an interactive table.\"\n",
              "              style=\"display:none;\">\n",
              "        \n",
              "  <svg xmlns=\"http://www.w3.org/2000/svg\" height=\"24px\"viewBox=\"0 0 24 24\"\n",
              "       width=\"24px\">\n",
              "    <path d=\"M0 0h24v24H0V0z\" fill=\"none\"/>\n",
              "    <path d=\"M18.56 5.44l.94 2.06.94-2.06 2.06-.94-2.06-.94-.94-2.06-.94 2.06-2.06.94zm-11 1L8.5 8.5l.94-2.06 2.06-.94-2.06-.94L8.5 2.5l-.94 2.06-2.06.94zm10 10l.94 2.06.94-2.06 2.06-.94-2.06-.94-.94-2.06-.94 2.06-2.06.94z\"/><path d=\"M17.41 7.96l-1.37-1.37c-.4-.4-.92-.59-1.43-.59-.52 0-1.04.2-1.43.59L10.3 9.45l-7.72 7.72c-.78.78-.78 2.05 0 2.83L4 21.41c.39.39.9.59 1.41.59.51 0 1.02-.2 1.41-.59l7.78-7.78 2.81-2.81c.8-.78.8-2.07 0-2.86zM5.41 20L4 18.59l7.72-7.72 1.47 1.35L5.41 20z\"/>\n",
              "  </svg>\n",
              "      </button>\n",
              "      \n",
              "  <style>\n",
              "    .colab-df-container {\n",
              "      display:flex;\n",
              "      flex-wrap:wrap;\n",
              "      gap: 12px;\n",
              "    }\n",
              "\n",
              "    .colab-df-convert {\n",
              "      background-color: #E8F0FE;\n",
              "      border: none;\n",
              "      border-radius: 50%;\n",
              "      cursor: pointer;\n",
              "      display: none;\n",
              "      fill: #1967D2;\n",
              "      height: 32px;\n",
              "      padding: 0 0 0 0;\n",
              "      width: 32px;\n",
              "    }\n",
              "\n",
              "    .colab-df-convert:hover {\n",
              "      background-color: #E2EBFA;\n",
              "      box-shadow: 0px 1px 2px rgba(60, 64, 67, 0.3), 0px 1px 3px 1px rgba(60, 64, 67, 0.15);\n",
              "      fill: #174EA6;\n",
              "    }\n",
              "\n",
              "    [theme=dark] .colab-df-convert {\n",
              "      background-color: #3B4455;\n",
              "      fill: #D2E3FC;\n",
              "    }\n",
              "\n",
              "    [theme=dark] .colab-df-convert:hover {\n",
              "      background-color: #434B5C;\n",
              "      box-shadow: 0px 1px 3px 1px rgba(0, 0, 0, 0.15);\n",
              "      filter: drop-shadow(0px 1px 2px rgba(0, 0, 0, 0.3));\n",
              "      fill: #FFFFFF;\n",
              "    }\n",
              "  </style>\n",
              "\n",
              "      <script>\n",
              "        const buttonEl =\n",
              "          document.querySelector('#df-9a645315-a131-4eac-9550-d123f88d8398 button.colab-df-convert');\n",
              "        buttonEl.style.display =\n",
              "          google.colab.kernel.accessAllowed ? 'block' : 'none';\n",
              "\n",
              "        async function convertToInteractive(key) {\n",
              "          const element = document.querySelector('#df-9a645315-a131-4eac-9550-d123f88d8398');\n",
              "          const dataTable =\n",
              "            await google.colab.kernel.invokeFunction('convertToInteractive',\n",
              "                                                     [key], {});\n",
              "          if (!dataTable) return;\n",
              "\n",
              "          const docLinkHtml = 'Like what you see? Visit the ' +\n",
              "            '<a target=\"_blank\" href=https://colab.research.google.com/notebooks/data_table.ipynb>data table notebook</a>'\n",
              "            + ' to learn more about interactive tables.';\n",
              "          element.innerHTML = '';\n",
              "          dataTable['output_type'] = 'display_data';\n",
              "          await google.colab.output.renderOutput(dataTable, element);\n",
              "          const docLink = document.createElement('div');\n",
              "          docLink.innerHTML = docLinkHtml;\n",
              "          element.appendChild(docLink);\n",
              "        }\n",
              "      </script>\n",
              "    </div>\n",
              "  </div>\n",
              "  "
            ]
          },
          "metadata": {},
          "execution_count": 44
        }
      ]
    },
    {
      "cell_type": "markdown",
      "source": [
        "The DataFrame 'prediction' will be displayed, showing the hours studied ('Hours Studied') and the corresponding predicted marks ('Predicted Marks')."
      ],
      "metadata": {
        "id": "GbaS5O9AI4GB"
      }
    },
    {
      "cell_type": "markdown",
      "source": [
        "**Step 8: Compare the predicted marks with the actual marks visually and mathematically**"
      ],
      "metadata": {
        "id": "jBt-O7_zI5Z7"
      }
    },
    {
      "cell_type": "code",
      "source": [
        "line = regressor.coef_ * X + regressor.intercept_\n",
        "plt.scatter(X, y)\n",
        "plt.plot(X, line)\n",
        "plt.title('Hours Studied vs Percentage Score')\n",
        "plt.xlabel('Hours Studied')\n",
        "plt.ylabel('Percentage Score')\n",
        "plt.show()"
      ],
      "metadata": {
        "colab": {
          "base_uri": "https://localhost:8080/",
          "height": 472
        },
        "id": "49z5nNyrLpcD",
        "outputId": "e28bcbb4-69e8-4070-a42a-f62f413d8fc3"
      },
      "execution_count": 45,
      "outputs": [
        {
          "output_type": "display_data",
          "data": {
            "text/plain": [
              "<Figure size 640x480 with 1 Axes>"
            ],
            "image/png": "[encoded data removed]"
          },
          "metadata": {}
        }
      ]
    },
    {
      "cell_type": "markdown",
      "source": [
        "To visually compare the predicted marks with the actual marks, we plot a regression line based on the coefficients and intercept obtained from the trained model. The scatter plot displays the actual data points, while the regression line represents the relationship between the number of hours studied and the percentage score."
      ],
      "metadata": {
        "id": "xDMwxpLgMHu_"
      }
    },
    {
      "cell_type": "code",
      "source": [
        "y_pred = regressor.predict(X_test)\n",
        "df = pd.DataFrame({'Actual': y_test, 'Predicted': y_pred})\n",
        "print(df)"
      ],
      "metadata": {
        "colab": {
          "base_uri": "https://localhost:8080/"
        },
        "id": "lv2TDGU1MkAm",
        "outputId": "f6232066-733c-43d5-8225-8f3bc1305273"
      },
      "execution_count": 46,
      "outputs": [
        {
          "output_type": "stream",
          "name": "stdout",
          "text": [
            "   Actual  Predicted\n",
            "0      20  16.884145\n",
            "1      27  33.732261\n",
            "2      69  75.357018\n",
            "3      30  26.794801\n",
            "4      62  60.491033\n"
          ]
        }
      ]
    },
    {
      "cell_type": "markdown",
      "source": [
        "**Step 9: Evaluate the Model**"
      ],
      "metadata": {
        "id": "dh2bsnBTNAlq"
      }
    },
    {
      "cell_type": "code",
      "source": [
        "from sklearn.metrics import mean_absolute_error\n",
        "# Calculating the mean absolute error\n",
        "mae = mean_absolute_error(y_test, y_pred)\n",
        "print('Mean Absolute Error:', mae)\n"
      ],
      "metadata": {
        "colab": {
          "base_uri": "https://localhost:8080/"
        },
        "id": "sSUIte0LND_J",
        "outputId": "43993035-aefd-4d61-9c54-05569ebd173d"
      },
      "execution_count": 47,
      "outputs": [
        {
          "output_type": "stream",
          "name": "stdout",
          "text": [
            "Mean Absolute Error: 4.183859899002982\n"
          ]
        }
      ]
    },
    {
      "cell_type": "markdown",
      "source": [
        "The code uses the mean_absolute_error() function from the scikit-learn library to calculate the mean absolute error between the actual marks (y_test) and the predicted marks (pred_y). The mean absolute error is then printed to evaluate the accuracy of the model."
      ],
      "metadata": {
        "id": "PoLtIVLsODzF"
      }
    },
    {
      "cell_type": "markdown",
      "source": [
        "# **What will be predicted score if a student studies for 9.25 hrs/day?**"
      ],
      "metadata": {
        "id": "_KjVRt6uOMvx"
      }
    },
    {
      "cell_type": "code",
      "source": [
        "hours = 9.25\n",
        "predicted_score = regressor.predict([[hours]])\n",
        "print(\"Predicted Score:\", predicted_score[0])"
      ],
      "metadata": {
        "colab": {
          "base_uri": "https://localhost:8080/"
        },
        "id": "FMAQL_YiOZNm",
        "outputId": "166090d3-e0d4-42c0-956b-b2a9931fca6b"
      },
      "execution_count": 48,
      "outputs": [
        {
          "output_type": "stream",
          "name": "stdout",
          "text": [
            "Predicted Score: 93.69173248737539\n"
          ]
        }
      ]
    },
    {
      "cell_type": "markdown",
      "source": [
        "**According to this trained regression model, if a student studies for 9.25 hours a day, it is predicted that they are likely to score approximately 93.69 marks.**"
      ],
      "metadata": {
        "id": "ge8YJDB1PTqA"
      }
    }
  ]
}